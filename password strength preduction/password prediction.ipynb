{
 "cells": [
  {
   "cell_type": "markdown",
   "id": "1bedb686",
   "metadata": {},
   "source": [
    "## Objective : To predict password strength(0,1,2) using the characters in password\n",
    "## Data Source:Udemy "
   ]
  },
  {
   "cell_type": "markdown",
   "id": "f8fb1cf4",
   "metadata": {},
   "source": [
    "## Import Libraries"
   ]
  },
  {
   "cell_type": "code",
   "execution_count": 2,
   "id": "b5038bf7",
   "metadata": {},
   "outputs": [],
   "source": [
    "import pandas as pd\n",
    "import numpy as np"
   ]
  },
  {
   "cell_type": "code",
   "execution_count": 3,
   "id": "4cbb6f3b",
   "metadata": {},
   "outputs": [],
   "source": [
    "# pwd"
   ]
  },
  {
   "cell_type": "markdown",
   "id": "35ba84be",
   "metadata": {},
   "source": [
    "## Import data"
   ]
  },
  {
   "cell_type": "code",
   "execution_count": 77,
   "id": "3834546f",
   "metadata": {},
   "outputs": [],
   "source": [
    "df=pd.read_csv('password_prediction_data.csv',error_bad_lines=False)"
   ]
  },
  {
   "cell_type": "code",
   "execution_count": 5,
   "id": "f849d075",
   "metadata": {},
   "outputs": [
    {
     "data": {
      "text/html": [
       "<div>\n",
       "<style scoped>\n",
       "    .dataframe tbody tr th:only-of-type {\n",
       "        vertical-align: middle;\n",
       "    }\n",
       "\n",
       "    .dataframe tbody tr th {\n",
       "        vertical-align: top;\n",
       "    }\n",
       "\n",
       "    .dataframe thead th {\n",
       "        text-align: right;\n",
       "    }\n",
       "</style>\n",
       "<table border=\"1\" class=\"dataframe\">\n",
       "  <thead>\n",
       "    <tr style=\"text-align: right;\">\n",
       "      <th></th>\n",
       "      <th>password</th>\n",
       "      <th>strength</th>\n",
       "    </tr>\n",
       "  </thead>\n",
       "  <tbody>\n",
       "    <tr>\n",
       "      <th>0</th>\n",
       "      <td>kzde5577</td>\n",
       "      <td>1</td>\n",
       "    </tr>\n",
       "    <tr>\n",
       "      <th>1</th>\n",
       "      <td>kino3434</td>\n",
       "      <td>1</td>\n",
       "    </tr>\n",
       "    <tr>\n",
       "      <th>2</th>\n",
       "      <td>visi7k1yr</td>\n",
       "      <td>1</td>\n",
       "    </tr>\n",
       "    <tr>\n",
       "      <th>3</th>\n",
       "      <td>megzy123</td>\n",
       "      <td>1</td>\n",
       "    </tr>\n",
       "    <tr>\n",
       "      <th>4</th>\n",
       "      <td>lamborghin1</td>\n",
       "      <td>1</td>\n",
       "    </tr>\n",
       "  </tbody>\n",
       "</table>\n",
       "</div>"
      ],
      "text/plain": [
       "      password  strength\n",
       "0     kzde5577         1\n",
       "1     kino3434         1\n",
       "2    visi7k1yr         1\n",
       "3     megzy123         1\n",
       "4  lamborghin1         1"
      ]
     },
     "execution_count": 5,
     "metadata": {},
     "output_type": "execute_result"
    }
   ],
   "source": [
    "df.head()"
   ]
  },
  {
   "cell_type": "code",
   "execution_count": 6,
   "id": "8fddd9ae",
   "metadata": {},
   "outputs": [
    {
     "data": {
      "text/plain": [
       "password    object\n",
       "strength     int64\n",
       "dtype: object"
      ]
     },
     "execution_count": 6,
     "metadata": {},
     "output_type": "execute_result"
    }
   ],
   "source": [
    "df.dtypes"
   ]
  },
  {
   "cell_type": "markdown",
   "id": "8d3e8fad",
   "metadata": {},
   "source": [
    "## EDA and Data cleaning"
   ]
  },
  {
   "cell_type": "markdown",
   "id": "be56a792",
   "metadata": {},
   "source": [
    "## Check null values"
   ]
  },
  {
   "cell_type": "code",
   "execution_count": 7,
   "id": "f6ce7ae3",
   "metadata": {},
   "outputs": [
    {
     "data": {
      "text/plain": [
       "(669640, 2)"
      ]
     },
     "execution_count": 7,
     "metadata": {},
     "output_type": "execute_result"
    }
   ],
   "source": [
    "df.shape"
   ]
  },
  {
   "cell_type": "code",
   "execution_count": 8,
   "id": "d179e70a",
   "metadata": {},
   "outputs": [
    {
     "data": {
      "text/plain": [
       "password    1\n",
       "strength    0\n",
       "dtype: int64"
      ]
     },
     "execution_count": 8,
     "metadata": {},
     "output_type": "execute_result"
    }
   ],
   "source": [
    "df.isnull().sum()"
   ]
  },
  {
   "cell_type": "markdown",
   "id": "c016ada5",
   "metadata": {},
   "source": [
    "very less missing values hence remove it"
   ]
  },
  {
   "cell_type": "code",
   "execution_count": 9,
   "id": "e479eef2",
   "metadata": {},
   "outputs": [],
   "source": [
    "df.dropna(inplace=True)"
   ]
  },
  {
   "cell_type": "code",
   "execution_count": 10,
   "id": "26c2a641",
   "metadata": {},
   "outputs": [
    {
     "data": {
      "text/plain": [
       "password    0\n",
       "strength    0\n",
       "dtype: int64"
      ]
     },
     "execution_count": 10,
     "metadata": {},
     "output_type": "execute_result"
    }
   ],
   "source": [
    "df.isnull().sum()"
   ]
  },
  {
   "cell_type": "code",
   "execution_count": 11,
   "id": "ce6f451c",
   "metadata": {},
   "outputs": [],
   "source": [
    "import seaborn as sns"
   ]
  },
  {
   "cell_type": "code",
   "execution_count": 12,
   "id": "7e6476a9",
   "metadata": {},
   "outputs": [
    {
     "data": {
      "text/plain": [
       "1    496801\n",
       "0     89701\n",
       "2     83137\n",
       "Name: strength, dtype: int64"
      ]
     },
     "execution_count": 12,
     "metadata": {},
     "output_type": "execute_result"
    }
   ],
   "source": [
    "df['strength'].value_counts()"
   ]
  },
  {
   "cell_type": "code",
   "execution_count": 13,
   "id": "867df7d6",
   "metadata": {},
   "outputs": [
    {
     "data": {
      "text/plain": [
       "<AxesSubplot:xlabel='strength', ylabel='count'>"
      ]
     },
     "execution_count": 13,
     "metadata": {},
     "output_type": "execute_result"
    },
    {
     "data": {
      "image/png": "[encoded data removed]",
      "text/plain": [
       "<Figure size 432x288 with 1 Axes>"
      ]
     },
     "metadata": {
      "needs_background": "light"
     },
     "output_type": "display_data"
    }
   ],
   "source": [
    "sns.countplot(data=df, x=\"strength\")"
   ]
  },
  {
   "cell_type": "code",
   "execution_count": 14,
   "id": "4d6cbc29",
   "metadata": {},
   "outputs": [
    {
     "data": {
      "text/plain": [
       "array([['kzde5577', 1],\n",
       "       ['kino3434', 1],\n",
       "       ['visi7k1yr', 1],\n",
       "       ...,\n",
       "       ['184520socram', 1],\n",
       "       ['marken22a', 1],\n",
       "       ['fxx4pw4g', 1]], dtype=object)"
      ]
     },
     "execution_count": 14,
     "metadata": {},
     "output_type": "execute_result"
    }
   ],
   "source": [
    "df_a=np.array(df)\n",
    "df_a"
   ]
  },
  {
   "cell_type": "code",
   "execution_count": 15,
   "id": "3a27b976",
   "metadata": {},
   "outputs": [],
   "source": [
    "def fun1(x):\n",
    "    x_char=[]\n",
    "    for i in range(len(x)):\n",
    "        x_char.append(x[i])\n",
    "    return x_char    \n",
    "    "
   ]
  },
  {
   "cell_type": "code",
   "execution_count": 16,
   "id": "6a9a11d3",
   "metadata": {},
   "outputs": [
    {
     "data": {
      "text/plain": [
       "['k', 'z', 'd', 'e', '5', '5', '7', '7']"
      ]
     },
     "execution_count": 16,
     "metadata": {},
     "output_type": "execute_result"
    }
   ],
   "source": [
    "fun1('kzde5577')"
   ]
  },
  {
   "cell_type": "code",
   "execution_count": 17,
   "id": "68f086de",
   "metadata": {},
   "outputs": [
    {
     "data": {
      "text/plain": [
       "(669639, 2)"
      ]
     },
     "execution_count": 17,
     "metadata": {},
     "output_type": "execute_result"
    }
   ],
   "source": [
    "df_a.shape"
   ]
  },
  {
   "cell_type": "code",
   "execution_count": 18,
   "id": "bf8da04b",
   "metadata": {},
   "outputs": [],
   "source": [
    "x=df_a[:,0]\n",
    "y=df_a[:,1]"
   ]
  },
  {
   "cell_type": "code",
   "execution_count": 19,
   "id": "c7fa0929",
   "metadata": {},
   "outputs": [],
   "source": [
    "y=y.astype(int)"
   ]
  },
  {
   "cell_type": "code",
   "execution_count": 20,
   "id": "7d00425c",
   "metadata": {},
   "outputs": [],
   "source": [
    "x_list=list(map(fun1,x))"
   ]
  },
  {
   "cell_type": "code",
   "execution_count": 21,
   "id": "87d8b89c",
   "metadata": {},
   "outputs": [
    {
     "data": {
      "text/plain": [
       "[['k', 'z', 'd', 'e', '5', '5', '7', '7'],\n",
       " ['k', 'i', 'n', 'o', '3', '4', '3', '4'],\n",
       " ['v', 'i', 's', 'i', '7', 'k', '1', 'y', 'r'],\n",
       " ['m', 'e', 'g', 'z', 'y', '1', '2', '3'],\n",
       " ['l', 'a', 'm', 'b', 'o', 'r', 'g', 'h', 'i', 'n', '1']]"
      ]
     },
     "execution_count": 21,
     "metadata": {},
     "output_type": "execute_result"
    }
   ],
   "source": [
    "x_list[0:5]"
   ]
  },
  {
   "cell_type": "markdown",
   "id": "47fc6a24",
   "metadata": {},
   "source": [
    "## Use TF-IDF to generate tokens/ using bigrams to start with"
   ]
  },
  {
   "cell_type": "code",
   "execution_count": 22,
   "id": "af999d6e",
   "metadata": {},
   "outputs": [],
   "source": [
    "from sklearn.feature_extraction.text import TfidfVectorizer"
   ]
  },
  {
   "cell_type": "code",
   "execution_count": 23,
   "id": "11fb4982",
   "metadata": {},
   "outputs": [
    {
     "data": {
      "text/plain": [
       "array(['\\x01', '\\x01±', '\\x02', ..., '›+', '›ð', '™'], dtype=object)"
      ]
     },
     "execution_count": 23,
     "metadata": {},
     "output_type": "execute_result"
    }
   ],
   "source": [
    "vectorizer = TfidfVectorizer(analyzer='char',ngram_range=tuple([1,2]))\n",
    "X = vectorizer.fit_transform(x)\n",
    "vectorizer.get_feature_names_out()"
   ]
  },
  {
   "cell_type": "code",
   "execution_count": 24,
   "id": "52e1f03c",
   "metadata": {},
   "outputs": [
    {
     "data": {
      "text/plain": [
       "(669639, 4162)"
      ]
     },
     "execution_count": 24,
     "metadata": {},
     "output_type": "execute_result"
    }
   ],
   "source": [
    "X.shape"
   ]
  },
  {
   "cell_type": "markdown",
   "id": "1b1d1e58",
   "metadata": {},
   "source": [
    "## Split data in test and train"
   ]
  },
  {
   "cell_type": "code",
   "execution_count": 25,
   "id": "0a7f2788",
   "metadata": {},
   "outputs": [],
   "source": [
    "from sklearn.model_selection import train_test_split"
   ]
  },
  {
   "cell_type": "code",
   "execution_count": 26,
   "id": "182ef9ed",
   "metadata": {},
   "outputs": [],
   "source": [
    "X_train, X_test, y_train, y_test=train_test_split(X,y,test_size=0.3)"
   ]
  },
  {
   "cell_type": "markdown",
   "id": "3135f8e9",
   "metadata": {},
   "source": [
    "## Model development :Logistic regression"
   ]
  },
  {
   "cell_type": "code",
   "execution_count": 27,
   "id": "dff88076",
   "metadata": {},
   "outputs": [],
   "source": [
    "from sklearn.linear_model import LogisticRegression"
   ]
  },
  {
   "cell_type": "code",
   "execution_count": 28,
   "id": "fdea400e",
   "metadata": {},
   "outputs": [],
   "source": [
    "clf=LogisticRegression(random_state=0,multi_class='multinomial')"
   ]
  },
  {
   "cell_type": "code",
   "execution_count": 29,
   "id": "58db475b",
   "metadata": {},
   "outputs": [
    {
     "name": "stderr",
     "output_type": "stream",
     "text": [
      "C:\\Users\\syednajme\\Anaconda3\\lib\\site-packages\\sklearn\\linear_model\\_logistic.py:814: ConvergenceWarning: lbfgs failed to converge (status=1):\n",
      "STOP: TOTAL NO. of ITERATIONS REACHED LIMIT.\n",
      "\n",
      "Increase the number of iterations (max_iter) or scale the data as shown in:\n",
      "    https://scikit-learn.org/stable/modules/preprocessing.html\n",
      "Please also refer to the documentation for alternative solver options:\n",
      "    https://scikit-learn.org/stable/modules/linear_model.html#logistic-regression\n",
      "  n_iter_i = _check_optimize_result(\n"
     ]
    },
    {
     "data": {
      "text/plain": [
       "LogisticRegression(multi_class='multinomial', random_state=0)"
      ]
     },
     "execution_count": 29,
     "metadata": {},
     "output_type": "execute_result"
    }
   ],
   "source": [
    "clf.fit(X_train,y_train)"
   ]
  },
  {
   "cell_type": "markdown",
   "id": "e76c7d0b",
   "metadata": {},
   "source": [
    "## Predict  and Evaluate"
   ]
  },
  {
   "cell_type": "code",
   "execution_count": 30,
   "id": "f74d1dd9",
   "metadata": {},
   "outputs": [],
   "source": [
    "y_pred_train=clf.predict(X_train)\n",
    "y_pred_test=clf.predict(X_test)\n"
   ]
  },
  {
   "cell_type": "code",
   "execution_count": 31,
   "id": "6e7c2fb0",
   "metadata": {},
   "outputs": [],
   "source": [
    "from sklearn.metrics import confusion_matrix,accuracy_score"
   ]
  },
  {
   "cell_type": "code",
   "execution_count": 32,
   "id": "8dbd2c63",
   "metadata": {},
   "outputs": [
    {
     "name": "stdout",
     "output_type": "stream",
     "text": [
      "************Train**************\n",
      "[[ 41851  20864      0]\n",
      " [  8641 338456    851]\n",
      " [   104   5485  52495]]\n",
      "Accuracy: 0.9233168425611257\n",
      "************Test**************\n",
      "[[ 17778   9208      0]\n",
      " [  3927 144517    409]\n",
      " [    62   2440  22551]]\n",
      "Accuracy: 0.9201262369830556\n"
     ]
    }
   ],
   "source": [
    "print('************Train**************')\n",
    "print(confusion_matrix(y_train,y_pred_train))\n",
    "print(\"Accuracy:\",accuracy_score(y_train,y_pred_train))\n",
    "print('************Test**************')\n",
    "print(confusion_matrix(y_test,y_pred_test))\n",
    "print(\"Accuracy:\",accuracy_score(y_test,y_pred_test))"
   ]
  },
  {
   "cell_type": "code",
   "execution_count": 33,
   "id": "14bcc797",
   "metadata": {},
   "outputs": [
    {
     "name": "stdout",
     "output_type": "stream",
     "text": [
      "************Train**************\n",
      "              precision    recall  f1-score   support\n",
      "\n",
      "           0       0.83      0.67      0.74     62715\n",
      "           1       0.93      0.97      0.95    347948\n",
      "           2       0.98      0.90      0.94     58084\n",
      "\n",
      "    accuracy                           0.92    468747\n",
      "   macro avg       0.91      0.85      0.88    468747\n",
      "weighted avg       0.92      0.92      0.92    468747\n",
      "\n",
      "************Test**************\n",
      "              precision    recall  f1-score   support\n",
      "\n",
      "           0       0.82      0.66      0.73     26986\n",
      "           1       0.93      0.97      0.95    148853\n",
      "           2       0.98      0.90      0.94     25053\n",
      "\n",
      "    accuracy                           0.92    200892\n",
      "   macro avg       0.91      0.84      0.87    200892\n",
      "weighted avg       0.92      0.92      0.92    200892\n",
      "\n"
     ]
    }
   ],
   "source": [
    "from sklearn.metrics import classification_report\n",
    "print('************Train**************')\n",
    "print(classification_report(y_train,y_pred_train))\n",
    "print('************Test**************')\n",
    "print(classification_report(y_test,y_pred_test))"
   ]
  },
  {
   "cell_type": "markdown",
   "id": "d564cb3a",
   "metadata": {},
   "source": [
    "## XGBOOST"
   ]
  },
  {
   "cell_type": "code",
   "execution_count": 34,
   "id": "0ecd38f5",
   "metadata": {},
   "outputs": [],
   "source": [
    "import xgboost as xgb"
   ]
  },
  {
   "cell_type": "code",
   "execution_count": 35,
   "id": "d31f253f",
   "metadata": {},
   "outputs": [
    {
     "name": "stderr",
     "output_type": "stream",
     "text": [
      "C:\\Users\\syednajme\\Anaconda3\\lib\\site-packages\\xgboost\\sklearn.py:1146: UserWarning: The use of label encoder in XGBClassifier is deprecated and will be removed in a future release. To remove this warning, do the following: 1) Pass option use_label_encoder=False when constructing XGBClassifier object; and 2) Encode your labels (y) as integers starting with 0, i.e. 0, 1, 2, ..., [num_class - 1].\n",
      "  warnings.warn(label_encoder_deprecation_msg, UserWarning)\n"
     ]
    },
    {
     "name": "stdout",
     "output_type": "stream",
     "text": [
      "[17:04:31] WARNING: C:/Users/Administrator/workspace/xgboost-win64_release_1.4.0/src/learner.cc:1095: Starting in XGBoost 1.3.0, the default evaluation metric used with the objective 'multi:softprob' was changed from 'merror' to 'mlogloss'. Explicitly set eval_metric if you'd like to restore the old behavior.\n"
     ]
    },
    {
     "data": {
      "text/plain": [
       "XGBClassifier(base_score=0.5, booster='gbtree', colsample_bylevel=1,\n",
       "              colsample_bynode=1, colsample_bytree=1, gamma=0, gpu_id=-1,\n",
       "              importance_type='gain', interaction_constraints='',\n",
       "              learning_rate=0.300000012, max_delta_step=0, max_depth=6,\n",
       "              min_child_weight=1, missing=nan, monotone_constraints='()',\n",
       "              n_estimators=100, n_jobs=8, num_parallel_tree=1,\n",
       "              objective='multi:softprob', random_state=42, reg_alpha=0,\n",
       "              reg_lambda=1, scale_pos_weight=None, subsample=1,\n",
       "              tree_method='exact', validate_parameters=1, verbosity=None)"
      ]
     },
     "execution_count": 35,
     "metadata": {},
     "output_type": "execute_result"
    }
   ],
   "source": [
    "xgb_model = xgb.XGBClassifier(objective=\"multi:softprob\", random_state=42)\n",
    "# xgb_model.fit(X, y)\n",
    "xgb_model.fit(X_train,y_train)\n",
    "\n"
   ]
  },
  {
   "cell_type": "code",
   "execution_count": 36,
   "id": "c07c0b16",
   "metadata": {},
   "outputs": [],
   "source": [
    "y_pred_train=xgb_model.predict(X_train)\n",
    "y_pred_test=xgb_model.predict(X_test)\n"
   ]
  },
  {
   "cell_type": "code",
   "execution_count": 37,
   "id": "4760128d",
   "metadata": {},
   "outputs": [
    {
     "name": "stdout",
     "output_type": "stream",
     "text": [
      "************Train**************\n",
      "[[ 57577   5138      0]\n",
      " [  2041 345272    635]\n",
      " [    19   1048  57017]]\n",
      "Accuracy: 0.9810537454106373\n",
      "************Test**************\n",
      "[[ 23914   3072      0]\n",
      " [  1170 147079    604]\n",
      " [     7    942  24104]]\n",
      "Accuracy: 0.9711536547000378\n"
     ]
    }
   ],
   "source": [
    "print('************Train**************')\n",
    "print(confusion_matrix(y_train,y_pred_train))\n",
    "print(\"Accuracy:\",accuracy_score(y_train,y_pred_train))\n",
    "print('************Test**************')\n",
    "print(confusion_matrix(y_test,y_pred_test))\n",
    "print(\"Accuracy:\",accuracy_score(y_test,y_pred_test))"
   ]
  },
  {
   "cell_type": "code",
   "execution_count": 38,
   "id": "0602f8d4",
   "metadata": {},
   "outputs": [
    {
     "name": "stdout",
     "output_type": "stream",
     "text": [
      "************Train**************\n",
      "              precision    recall  f1-score   support\n",
      "\n",
      "           0       0.97      0.92      0.94     62715\n",
      "           1       0.98      0.99      0.99    347948\n",
      "           2       0.99      0.98      0.99     58084\n",
      "\n",
      "    accuracy                           0.98    468747\n",
      "   macro avg       0.98      0.96      0.97    468747\n",
      "weighted avg       0.98      0.98      0.98    468747\n",
      "\n",
      "************Test**************\n",
      "              precision    recall  f1-score   support\n",
      "\n",
      "           0       0.95      0.89      0.92     26986\n",
      "           1       0.97      0.99      0.98    148853\n",
      "           2       0.98      0.96      0.97     25053\n",
      "\n",
      "    accuracy                           0.97    200892\n",
      "   macro avg       0.97      0.95      0.96    200892\n",
      "weighted avg       0.97      0.97      0.97    200892\n",
      "\n"
     ]
    }
   ],
   "source": [
    "from sklearn.metrics import classification_report\n",
    "print('************Train**************')\n",
    "print(classification_report(y_train,y_pred_train))\n",
    "print('************Test**************')\n",
    "print(classification_report(y_test,y_pred_test))"
   ]
  },
  {
   "cell_type": "markdown",
   "id": "46b328fd",
   "metadata": {},
   "source": [
    "## XGBOOST gives real good results and does not overfits hence parameter tuning is not required"
   ]
  },
  {
   "cell_type": "markdown",
   "id": "dc41a435",
   "metadata": {},
   "source": [
    "## Predict any new password strength"
   ]
  },
  {
   "cell_type": "code",
   "execution_count": 74,
   "id": "5cceed5c",
   "metadata": {},
   "outputs": [],
   "source": [
    "def chk_st(x):\n",
    "    \n",
    "    dt=np.array([x])\n",
    "    pred=vectorizer.transform(dt)\n",
    "    return(\"strength:\",clf.predict(pred)[0])\n",
    "    \n"
   ]
  },
  {
   "cell_type": "code",
   "execution_count": 75,
   "id": "119dfdcb",
   "metadata": {},
   "outputs": [
    {
     "data": {
      "text/plain": [
       "('strength:', 0)"
      ]
     },
     "execution_count": 75,
     "metadata": {},
     "output_type": "execute_result"
    }
   ],
   "source": [
    "chk_st('zxcv')"
   ]
  },
  {
   "cell_type": "code",
   "execution_count": 76,
   "id": "b5cadd3b",
   "metadata": {},
   "outputs": [
    {
     "data": {
      "text/plain": [
       "('strength:', 2)"
      ]
     },
     "execution_count": 76,
     "metadata": {},
     "output_type": "execute_result"
    }
   ],
   "source": [
    "chk_st('Qasdf@20456')"
   ]
  }
 ],
 "metadata": {
  "kernelspec": {
   "display_name": "Python 3",
   "language": "python",
   "name": "python3"
  },
  "language_info": {
   "codemirror_mode": {
    "name": "ipython",
    "version": 3
   },
   "file_extension": ".py",
   "mimetype": "text/x-python",
   "name": "python",
   "nbconvert_exporter": "python",
   "pygments_lexer": "ipython3",
   "version": "3.8.8"
  }
 },
 "nbformat": 4,
 "nbformat_minor": 5
}
